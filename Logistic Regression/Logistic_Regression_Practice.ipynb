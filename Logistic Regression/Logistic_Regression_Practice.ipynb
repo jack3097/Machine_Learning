{
 "cells": [
  {
   "cell_type": "markdown",
   "metadata": {},
   "source": [
    "### Importing libraries and dataset"
   ]
  },
  {
   "cell_type": "code",
   "execution_count": 1,
   "metadata": {},
   "outputs": [],
   "source": [
    "import pandas as pd\n",
    "import numpy as np\n",
    "import matplotlib.pyplot as plt\n",
    "import seaborn as sns"
   ]
  },
  {
   "cell_type": "code",
   "execution_count": 2,
   "metadata": {},
   "outputs": [
    {
     "data": {
      "text/html": [
       "<div>\n",
       "<style scoped>\n",
       "    .dataframe tbody tr th:only-of-type {\n",
       "        vertical-align: middle;\n",
       "    }\n",
       "\n",
       "    .dataframe tbody tr th {\n",
       "        vertical-align: top;\n",
       "    }\n",
       "\n",
       "    .dataframe thead th {\n",
       "        text-align: right;\n",
       "    }\n",
       "</style>\n",
       "<table border=\"1\" class=\"dataframe\">\n",
       "  <thead>\n",
       "    <tr style=\"text-align: right;\">\n",
       "      <th></th>\n",
       "      <th>Unnamed: 0</th>\n",
       "      <th>npreg</th>\n",
       "      <th>glu</th>\n",
       "      <th>bp</th>\n",
       "      <th>skin</th>\n",
       "      <th>bmi</th>\n",
       "      <th>ped</th>\n",
       "      <th>age</th>\n",
       "      <th>type</th>\n",
       "    </tr>\n",
       "  </thead>\n",
       "  <tbody>\n",
       "    <tr>\n",
       "      <th>0</th>\n",
       "      <td>1</td>\n",
       "      <td>6</td>\n",
       "      <td>148</td>\n",
       "      <td>72</td>\n",
       "      <td>35</td>\n",
       "      <td>33.6</td>\n",
       "      <td>0.627</td>\n",
       "      <td>50</td>\n",
       "      <td>Yes</td>\n",
       "    </tr>\n",
       "    <tr>\n",
       "      <th>1</th>\n",
       "      <td>2</td>\n",
       "      <td>1</td>\n",
       "      <td>85</td>\n",
       "      <td>66</td>\n",
       "      <td>29</td>\n",
       "      <td>26.6</td>\n",
       "      <td>0.351</td>\n",
       "      <td>31</td>\n",
       "      <td>No</td>\n",
       "    </tr>\n",
       "    <tr>\n",
       "      <th>2</th>\n",
       "      <td>3</td>\n",
       "      <td>1</td>\n",
       "      <td>89</td>\n",
       "      <td>66</td>\n",
       "      <td>23</td>\n",
       "      <td>28.1</td>\n",
       "      <td>0.167</td>\n",
       "      <td>21</td>\n",
       "      <td>No</td>\n",
       "    </tr>\n",
       "    <tr>\n",
       "      <th>3</th>\n",
       "      <td>4</td>\n",
       "      <td>3</td>\n",
       "      <td>78</td>\n",
       "      <td>50</td>\n",
       "      <td>32</td>\n",
       "      <td>31.0</td>\n",
       "      <td>0.248</td>\n",
       "      <td>26</td>\n",
       "      <td>Yes</td>\n",
       "    </tr>\n",
       "    <tr>\n",
       "      <th>4</th>\n",
       "      <td>5</td>\n",
       "      <td>2</td>\n",
       "      <td>197</td>\n",
       "      <td>70</td>\n",
       "      <td>45</td>\n",
       "      <td>30.5</td>\n",
       "      <td>0.158</td>\n",
       "      <td>53</td>\n",
       "      <td>Yes</td>\n",
       "    </tr>\n",
       "  </tbody>\n",
       "</table>\n",
       "</div>"
      ],
      "text/plain": [
       "   Unnamed: 0  npreg  glu  bp  skin   bmi    ped  age type\n",
       "0           1      6  148  72    35  33.6  0.627   50  Yes\n",
       "1           2      1   85  66    29  26.6  0.351   31   No\n",
       "2           3      1   89  66    23  28.1  0.167   21   No\n",
       "3           4      3   78  50    32  31.0  0.248   26  Yes\n",
       "4           5      2  197  70    45  30.5  0.158   53  Yes"
      ]
     },
     "execution_count": 2,
     "metadata": {},
     "output_type": "execute_result"
    }
   ],
   "source": [
    "df = pd.read_csv(\"Pima_te.csv\")\n",
    "df.head()"
   ]
  },
  {
   "cell_type": "code",
   "execution_count": 3,
   "metadata": {},
   "outputs": [],
   "source": [
    "df.drop('Unnamed: 0',axis=1,inplace=True)"
   ]
  },
  {
   "cell_type": "code",
   "execution_count": 4,
   "metadata": {},
   "outputs": [
    {
     "name": "stdout",
     "output_type": "stream",
     "text": [
      "<class 'pandas.core.frame.DataFrame'>\n",
      "RangeIndex: 332 entries, 0 to 331\n",
      "Data columns (total 8 columns):\n",
      "npreg    332 non-null int64\n",
      "glu      332 non-null int64\n",
      "bp       332 non-null int64\n",
      "skin     332 non-null int64\n",
      "bmi      332 non-null float64\n",
      "ped      332 non-null float64\n",
      "age      332 non-null int64\n",
      "type     332 non-null object\n",
      "dtypes: float64(2), int64(5), object(1)\n",
      "memory usage: 20.8+ KB\n"
     ]
    }
   ],
   "source": [
    "df.info()"
   ]
  },
  {
   "cell_type": "markdown",
   "metadata": {},
   "source": [
    "### EDA and Data Pre-processing"
   ]
  },
  {
   "cell_type": "code",
   "execution_count": 5,
   "metadata": {},
   "outputs": [
    {
     "data": {
      "text/html": [
       "<div>\n",
       "<style scoped>\n",
       "    .dataframe tbody tr th:only-of-type {\n",
       "        vertical-align: middle;\n",
       "    }\n",
       "\n",
       "    .dataframe tbody tr th {\n",
       "        vertical-align: top;\n",
       "    }\n",
       "\n",
       "    .dataframe thead th {\n",
       "        text-align: right;\n",
       "    }\n",
       "</style>\n",
       "<table border=\"1\" class=\"dataframe\">\n",
       "  <thead>\n",
       "    <tr style=\"text-align: right;\">\n",
       "      <th></th>\n",
       "      <th>npreg</th>\n",
       "      <th>glu</th>\n",
       "      <th>bp</th>\n",
       "      <th>skin</th>\n",
       "      <th>bmi</th>\n",
       "      <th>ped</th>\n",
       "      <th>age</th>\n",
       "    </tr>\n",
       "  </thead>\n",
       "  <tbody>\n",
       "    <tr>\n",
       "      <th>count</th>\n",
       "      <td>332.000000</td>\n",
       "      <td>332.000000</td>\n",
       "      <td>332.000000</td>\n",
       "      <td>332.000000</td>\n",
       "      <td>332.000000</td>\n",
       "      <td>332.000000</td>\n",
       "      <td>332.000000</td>\n",
       "    </tr>\n",
       "    <tr>\n",
       "      <th>mean</th>\n",
       "      <td>3.484940</td>\n",
       "      <td>119.259036</td>\n",
       "      <td>71.653614</td>\n",
       "      <td>29.162651</td>\n",
       "      <td>33.239759</td>\n",
       "      <td>0.528389</td>\n",
       "      <td>31.316265</td>\n",
       "    </tr>\n",
       "    <tr>\n",
       "      <th>std</th>\n",
       "      <td>3.283634</td>\n",
       "      <td>30.501138</td>\n",
       "      <td>12.799307</td>\n",
       "      <td>9.748068</td>\n",
       "      <td>7.282901</td>\n",
       "      <td>0.363278</td>\n",
       "      <td>10.636225</td>\n",
       "    </tr>\n",
       "    <tr>\n",
       "      <th>min</th>\n",
       "      <td>0.000000</td>\n",
       "      <td>65.000000</td>\n",
       "      <td>24.000000</td>\n",
       "      <td>7.000000</td>\n",
       "      <td>19.400000</td>\n",
       "      <td>0.085000</td>\n",
       "      <td>21.000000</td>\n",
       "    </tr>\n",
       "    <tr>\n",
       "      <th>25%</th>\n",
       "      <td>1.000000</td>\n",
       "      <td>96.000000</td>\n",
       "      <td>64.000000</td>\n",
       "      <td>22.000000</td>\n",
       "      <td>28.175000</td>\n",
       "      <td>0.266000</td>\n",
       "      <td>23.000000</td>\n",
       "    </tr>\n",
       "    <tr>\n",
       "      <th>50%</th>\n",
       "      <td>2.000000</td>\n",
       "      <td>112.000000</td>\n",
       "      <td>72.000000</td>\n",
       "      <td>29.000000</td>\n",
       "      <td>32.900000</td>\n",
       "      <td>0.440000</td>\n",
       "      <td>27.000000</td>\n",
       "    </tr>\n",
       "    <tr>\n",
       "      <th>75%</th>\n",
       "      <td>5.000000</td>\n",
       "      <td>136.250000</td>\n",
       "      <td>80.000000</td>\n",
       "      <td>36.000000</td>\n",
       "      <td>37.200000</td>\n",
       "      <td>0.679250</td>\n",
       "      <td>37.000000</td>\n",
       "    </tr>\n",
       "    <tr>\n",
       "      <th>max</th>\n",
       "      <td>17.000000</td>\n",
       "      <td>197.000000</td>\n",
       "      <td>110.000000</td>\n",
       "      <td>63.000000</td>\n",
       "      <td>67.100000</td>\n",
       "      <td>2.420000</td>\n",
       "      <td>81.000000</td>\n",
       "    </tr>\n",
       "  </tbody>\n",
       "</table>\n",
       "</div>"
      ],
      "text/plain": [
       "            npreg         glu          bp        skin         bmi         ped  \\\n",
       "count  332.000000  332.000000  332.000000  332.000000  332.000000  332.000000   \n",
       "mean     3.484940  119.259036   71.653614   29.162651   33.239759    0.528389   \n",
       "std      3.283634   30.501138   12.799307    9.748068    7.282901    0.363278   \n",
       "min      0.000000   65.000000   24.000000    7.000000   19.400000    0.085000   \n",
       "25%      1.000000   96.000000   64.000000   22.000000   28.175000    0.266000   \n",
       "50%      2.000000  112.000000   72.000000   29.000000   32.900000    0.440000   \n",
       "75%      5.000000  136.250000   80.000000   36.000000   37.200000    0.679250   \n",
       "max     17.000000  197.000000  110.000000   63.000000   67.100000    2.420000   \n",
       "\n",
       "              age  \n",
       "count  332.000000  \n",
       "mean    31.316265  \n",
       "std     10.636225  \n",
       "min     21.000000  \n",
       "25%     23.000000  \n",
       "50%     27.000000  \n",
       "75%     37.000000  \n",
       "max     81.000000  "
      ]
     },
     "execution_count": 5,
     "metadata": {},
     "output_type": "execute_result"
    }
   ],
   "source": [
    "df.describe()"
   ]
  },
  {
   "cell_type": "code",
   "execution_count": 6,
   "metadata": {},
   "outputs": [
    {
     "data": {
      "text/html": [
       "<div>\n",
       "<style scoped>\n",
       "    .dataframe tbody tr th:only-of-type {\n",
       "        vertical-align: middle;\n",
       "    }\n",
       "\n",
       "    .dataframe tbody tr th {\n",
       "        vertical-align: top;\n",
       "    }\n",
       "\n",
       "    .dataframe thead th {\n",
       "        text-align: right;\n",
       "    }\n",
       "</style>\n",
       "<table border=\"1\" class=\"dataframe\">\n",
       "  <thead>\n",
       "    <tr style=\"text-align: right;\">\n",
       "      <th></th>\n",
       "      <th>type</th>\n",
       "    </tr>\n",
       "  </thead>\n",
       "  <tbody>\n",
       "    <tr>\n",
       "      <th>count</th>\n",
       "      <td>332</td>\n",
       "    </tr>\n",
       "    <tr>\n",
       "      <th>unique</th>\n",
       "      <td>2</td>\n",
       "    </tr>\n",
       "    <tr>\n",
       "      <th>top</th>\n",
       "      <td>No</td>\n",
       "    </tr>\n",
       "    <tr>\n",
       "      <th>freq</th>\n",
       "      <td>223</td>\n",
       "    </tr>\n",
       "  </tbody>\n",
       "</table>\n",
       "</div>"
      ],
      "text/plain": [
       "       type\n",
       "count   332\n",
       "unique    2\n",
       "top      No\n",
       "freq    223"
      ]
     },
     "execution_count": 6,
     "metadata": {},
     "output_type": "execute_result"
    }
   ],
   "source": [
    "df.describe(include='object')"
   ]
  },
  {
   "cell_type": "code",
   "execution_count": 7,
   "metadata": {},
   "outputs": [],
   "source": [
    "#converting the type variable into 1s and 0s: 1 for Yes and 0 for No\n",
    "def myfunc(st):\n",
    "    st = st.lower()\n",
    "    if (st == \"yes\"):\n",
    "        return 1\n",
    "    elif (st == \"no\"):\n",
    "        return 0"
   ]
  },
  {
   "cell_type": "code",
   "execution_count": 8,
   "metadata": {},
   "outputs": [],
   "source": [
    "df['type']=df['type'].apply(lambda x: myfunc(x))"
   ]
  },
  {
   "cell_type": "code",
   "execution_count": 9,
   "metadata": {},
   "outputs": [],
   "source": [
    "#splitting the target and predictor variables\n",
    "target = df['type']\n",
    "predictor = df.drop('type',axis=1)"
   ]
  },
  {
   "cell_type": "code",
   "execution_count": 10,
   "metadata": {},
   "outputs": [
    {
     "data": {
      "image/png": "[encoded data removed]",
      "text/plain": [
       "<Figure size 1440x1080 with 9 Axes>"
      ]
     },
     "metadata": {
      "needs_background": "light"
     },
     "output_type": "display_data"
    }
   ],
   "source": [
    "predictor.hist(figsize=(20,15))\n",
    "plt.show()"
   ]
  },
  {
   "cell_type": "code",
   "execution_count": 11,
   "metadata": {},
   "outputs": [
    {
     "data": {
      "text/plain": [
       "npreg      int64\n",
       "glu        int64\n",
       "bp         int64\n",
       "skin       int64\n",
       "bmi      float64\n",
       "ped      float64\n",
       "age        int64\n",
       "dtype: object"
      ]
     },
     "execution_count": 11,
     "metadata": {},
     "output_type": "execute_result"
    }
   ],
   "source": [
    "predictor.dtypes"
   ]
  },
  {
   "cell_type": "code",
   "execution_count": 12,
   "metadata": {},
   "outputs": [
    {
     "data": {
      "text/plain": [
       "npreg    1.171401\n",
       "glu      0.708954\n",
       "bp      -0.085421\n",
       "skin     0.236247\n",
       "bmi      0.805335\n",
       "ped      1.838795\n",
       "age      1.393979\n",
       "dtype: float64"
      ]
     },
     "execution_count": 12,
     "metadata": {},
     "output_type": "execute_result"
    }
   ],
   "source": [
    "#checking for skewness value\n",
    "predictor.skew()"
   ]
  },
  {
   "cell_type": "code",
   "execution_count": 13,
   "metadata": {},
   "outputs": [],
   "source": [
    "#skewness treatment\n",
    "predictor['npreg'] = np.log1p(predictor['npreg'])\n",
    "predictor['glu'] = np.sqrt(predictor['glu'])\n",
    "predictor['bmi'] = np.sqrt(predictor['bmi'])\n",
    "predictor['ped'] = np.cbrt(predictor['ped'])\n",
    "predictor['age'] = np.log1p(np.log1p(np.log1p(predictor['age'])))"
   ]
  },
  {
   "cell_type": "code",
   "execution_count": 14,
   "metadata": {},
   "outputs": [
    {
     "data": {
      "text/plain": [
       "npreg   -0.065403\n",
       "glu      0.484120\n",
       "bp      -0.085421\n",
       "skin     0.236247\n",
       "bmi      0.415590\n",
       "ped      0.541252\n",
       "age      0.682735\n",
       "dtype: float64"
      ]
     },
     "execution_count": 14,
     "metadata": {},
     "output_type": "execute_result"
    }
   ],
   "source": [
    "predictor.skew()"
   ]
  },
  {
   "cell_type": "code",
   "execution_count": 30,
   "metadata": {},
   "outputs": [
    {
     "data": {
      "text/plain": [
       "<matplotlib.axes._subplots.AxesSubplot at 0x18b1a010940>"
      ]
     },
     "execution_count": 30,
     "metadata": {},
     "output_type": "execute_result"
    },
    {
     "data": {
      "image/png": "[encoded data removed]",
      "text/plain": [
       "<Figure size 432x288 with 1 Axes>"
      ]
     },
     "metadata": {
      "needs_background": "light"
     },
     "output_type": "display_data"
    }
   ],
   "source": [
    "predictor.npreg.plot(kind='kde')"
   ]
  },
  {
   "cell_type": "code",
   "execution_count": 15,
   "metadata": {},
   "outputs": [
    {
     "data": {
      "text/html": [
       "<div>\n",
       "<style scoped>\n",
       "    .dataframe tbody tr th:only-of-type {\n",
       "        vertical-align: middle;\n",
       "    }\n",
       "\n",
       "    .dataframe tbody tr th {\n",
       "        vertical-align: top;\n",
       "    }\n",
       "\n",
       "    .dataframe thead th {\n",
       "        text-align: right;\n",
       "    }\n",
       "</style>\n",
       "<table border=\"1\" class=\"dataframe\">\n",
       "  <thead>\n",
       "    <tr style=\"text-align: right;\">\n",
       "      <th></th>\n",
       "      <th>npreg</th>\n",
       "      <th>glu</th>\n",
       "      <th>bp</th>\n",
       "      <th>skin</th>\n",
       "      <th>bmi</th>\n",
       "      <th>ped</th>\n",
       "      <th>age</th>\n",
       "    </tr>\n",
       "  </thead>\n",
       "  <tbody>\n",
       "    <tr>\n",
       "      <th>count</th>\n",
       "      <td>3.320000e+02</td>\n",
       "      <td>3.320000e+02</td>\n",
       "      <td>3.320000e+02</td>\n",
       "      <td>3.320000e+02</td>\n",
       "      <td>3.320000e+02</td>\n",
       "      <td>3.320000e+02</td>\n",
       "      <td>3.320000e+02</td>\n",
       "    </tr>\n",
       "    <tr>\n",
       "      <th>mean</th>\n",
       "      <td>4.551246e-16</td>\n",
       "      <td>-3.646681e-15</td>\n",
       "      <td>9.614130e-17</td>\n",
       "      <td>9.229565e-17</td>\n",
       "      <td>-3.429820e-15</td>\n",
       "      <td>-3.299904e-15</td>\n",
       "      <td>2.035688e-14</td>\n",
       "    </tr>\n",
       "    <tr>\n",
       "      <th>std</th>\n",
       "      <td>1.000000e+00</td>\n",
       "      <td>1.000000e+00</td>\n",
       "      <td>1.000000e+00</td>\n",
       "      <td>1.000000e+00</td>\n",
       "      <td>1.000000e+00</td>\n",
       "      <td>1.000000e+00</td>\n",
       "      <td>1.000000e+00</td>\n",
       "    </tr>\n",
       "    <tr>\n",
       "      <th>min</th>\n",
       "      <td>-1.634252e+00</td>\n",
       "      <td>-2.034631e+00</td>\n",
       "      <td>-3.723140e+00</td>\n",
       "      <td>-2.273543e+00</td>\n",
       "      <td>-2.143435e+00</td>\n",
       "      <td>-1.985940e+00</td>\n",
       "      <td>-1.218510e+00</td>\n",
       "    </tr>\n",
       "    <tr>\n",
       "      <th>25%</th>\n",
       "      <td>-7.151266e-01</td>\n",
       "      <td>-7.611828e-01</td>\n",
       "      <td>-5.979710e-01</td>\n",
       "      <td>-7.347765e-01</td>\n",
       "      <td>-6.847524e-01</td>\n",
       "      <td>-7.719855e-01</td>\n",
       "      <td>-8.800183e-01</td>\n",
       "    </tr>\n",
       "    <tr>\n",
       "      <th>50%</th>\n",
       "      <td>-1.774724e-01</td>\n",
       "      <td>-1.852104e-01</td>\n",
       "      <td>2.706284e-02</td>\n",
       "      <td>-1.668542e-02</td>\n",
       "      <td>6.012690e-03</td>\n",
       "      <td>-7.101257e-02</td>\n",
       "      <td>-3.041027e-01</td>\n",
       "    </tr>\n",
       "    <tr>\n",
       "      <th>75%</th>\n",
       "      <td>7.416535e-01</td>\n",
       "      <td>6.142051e-01</td>\n",
       "      <td>6.520967e-01</td>\n",
       "      <td>7.014056e-01</td>\n",
       "      <td>5.926194e-01</td>\n",
       "      <td>6.358018e-01</td>\n",
       "      <td>7.561200e-01</td>\n",
       "    </tr>\n",
       "    <tr>\n",
       "      <th>max</th>\n",
       "      <td>2.198433e+00</td>\n",
       "      <td>2.347938e+00</td>\n",
       "      <td>2.995974e+00</td>\n",
       "      <td>3.471185e+00</td>\n",
       "      <td>3.970681e+00</td>\n",
       "      <td>3.401826e+00</td>\n",
       "      <td>3.043665e+00</td>\n",
       "    </tr>\n",
       "  </tbody>\n",
       "</table>\n",
       "</div>"
      ],
      "text/plain": [
       "              npreg           glu            bp          skin           bmi  \\\n",
       "count  3.320000e+02  3.320000e+02  3.320000e+02  3.320000e+02  3.320000e+02   \n",
       "mean   4.551246e-16 -3.646681e-15  9.614130e-17  9.229565e-17 -3.429820e-15   \n",
       "std    1.000000e+00  1.000000e+00  1.000000e+00  1.000000e+00  1.000000e+00   \n",
       "min   -1.634252e+00 -2.034631e+00 -3.723140e+00 -2.273543e+00 -2.143435e+00   \n",
       "25%   -7.151266e-01 -7.611828e-01 -5.979710e-01 -7.347765e-01 -6.847524e-01   \n",
       "50%   -1.774724e-01 -1.852104e-01  2.706284e-02 -1.668542e-02  6.012690e-03   \n",
       "75%    7.416535e-01  6.142051e-01  6.520967e-01  7.014056e-01  5.926194e-01   \n",
       "max    2.198433e+00  2.347938e+00  2.995974e+00  3.471185e+00  3.970681e+00   \n",
       "\n",
       "                ped           age  \n",
       "count  3.320000e+02  3.320000e+02  \n",
       "mean  -3.299904e-15  2.035688e-14  \n",
       "std    1.000000e+00  1.000000e+00  \n",
       "min   -1.985940e+00 -1.218510e+00  \n",
       "25%   -7.719855e-01 -8.800183e-01  \n",
       "50%   -7.101257e-02 -3.041027e-01  \n",
       "75%    6.358018e-01  7.561200e-01  \n",
       "max    3.401826e+00  3.043665e+00  "
      ]
     },
     "execution_count": 15,
     "metadata": {},
     "output_type": "execute_result"
    }
   ],
   "source": [
    "#normalizing the data\n",
    "predictor = (predictor - predictor.mean())/predictor.std()\n",
    "predictor.describe()"
   ]
  },
  {
   "cell_type": "code",
   "execution_count": 16,
   "metadata": {},
   "outputs": [
    {
     "name": "stdout",
     "output_type": "stream",
     "text": [
      "<class 'pandas.core.frame.DataFrame'>\n",
      "RangeIndex: 332 entries, 0 to 331\n",
      "Data columns (total 7 columns):\n",
      "npreg    332 non-null float64\n",
      "glu      332 non-null float64\n",
      "bp       332 non-null float64\n",
      "skin     332 non-null float64\n",
      "bmi      332 non-null float64\n",
      "ped      332 non-null float64\n",
      "age      332 non-null float64\n",
      "dtypes: float64(7)\n",
      "memory usage: 18.2 KB\n"
     ]
    }
   ],
   "source": [
    "predictor.info()"
   ]
  },
  {
   "cell_type": "markdown",
   "metadata": {},
   "source": [
    "### Model creation and Training"
   ]
  },
  {
   "cell_type": "code",
   "execution_count": 17,
   "metadata": {},
   "outputs": [
    {
     "name": "stdout",
     "output_type": "stream",
     "text": [
      "x_train  (232, 7)\n",
      "x_test  (100, 7)\n",
      "y_train  (232,)\n",
      "y_test  (100,)\n"
     ]
    }
   ],
   "source": [
    "#Let us now split the dataset into train & test\n",
    "from sklearn.model_selection import train_test_split\n",
    "x_train,x_test, y_train, y_test = train_test_split(predictor, target, test_size = 0.30, random_state=0)\n",
    "print(\"x_train \",x_train.shape)\n",
    "print(\"x_test \",x_test.shape)\n",
    "print(\"y_train \",y_train.shape)\n",
    "print(\"y_test \",y_test.shape)"
   ]
  },
  {
   "cell_type": "code",
   "execution_count": 18,
   "metadata": {},
   "outputs": [
    {
     "name": "stdout",
     "output_type": "stream",
     "text": [
      "Optimization terminated successfully.\n",
      "         Current function value: 0.510479\n",
      "         Iterations 6\n"
     ]
    },
    {
     "data": {
      "text/html": [
       "<table class=\"simpletable\">\n",
       "<caption>Logit Regression Results</caption>\n",
       "<tr>\n",
       "  <th>Dep. Variable:</th>         <td>type</td>       <th>  No. Observations:  </th>  <td>   232</td>  \n",
       "</tr>\n",
       "<tr>\n",
       "  <th>Model:</th>                 <td>Logit</td>      <th>  Df Residuals:      </th>  <td>   225</td>  \n",
       "</tr>\n",
       "<tr>\n",
       "  <th>Method:</th>                 <td>MLE</td>       <th>  Df Model:          </th>  <td>     6</td>  \n",
       "</tr>\n",
       "<tr>\n",
       "  <th>Date:</th>            <td>Thu, 05 Dec 2019</td> <th>  Pseudo R-squ.:     </th>  <td>0.1847</td>  \n",
       "</tr>\n",
       "<tr>\n",
       "  <th>Time:</th>                <td>11:02:49</td>     <th>  Log-Likelihood:    </th> <td> -118.43</td> \n",
       "</tr>\n",
       "<tr>\n",
       "  <th>converged:</th>             <td>True</td>       <th>  LL-Null:           </th> <td> -145.25</td> \n",
       "</tr>\n",
       "<tr>\n",
       "  <th>Covariance Type:</th>     <td>nonrobust</td>    <th>  LLR p-value:       </th> <td>8.709e-10</td>\n",
       "</tr>\n",
       "</table>\n",
       "<table class=\"simpletable\">\n",
       "<tr>\n",
       "    <td></td>       <th>coef</th>     <th>std err</th>      <th>z</th>      <th>P>|z|</th>  <th>[0.025</th>    <th>0.975]</th>  \n",
       "</tr>\n",
       "<tr>\n",
       "  <th>npreg</th> <td>    0.2014</td> <td>    0.224</td> <td>    0.898</td> <td> 0.369</td> <td>   -0.238</td> <td>    0.641</td>\n",
       "</tr>\n",
       "<tr>\n",
       "  <th>glu</th>   <td>    1.1259</td> <td>    0.200</td> <td>    5.633</td> <td> 0.000</td> <td>    0.734</td> <td>    1.518</td>\n",
       "</tr>\n",
       "<tr>\n",
       "  <th>bp</th>    <td>   -0.0408</td> <td>    0.196</td> <td>   -0.209</td> <td> 0.835</td> <td>   -0.424</td> <td>    0.343</td>\n",
       "</tr>\n",
       "<tr>\n",
       "  <th>skin</th>  <td>    0.0629</td> <td>    0.213</td> <td>    0.296</td> <td> 0.768</td> <td>   -0.354</td> <td>    0.480</td>\n",
       "</tr>\n",
       "<tr>\n",
       "  <th>bmi</th>   <td>    0.4463</td> <td>    0.238</td> <td>    1.878</td> <td> 0.060</td> <td>   -0.019</td> <td>    0.912</td>\n",
       "</tr>\n",
       "<tr>\n",
       "  <th>ped</th>   <td>    0.2465</td> <td>    0.180</td> <td>    1.372</td> <td> 0.170</td> <td>   -0.106</td> <td>    0.599</td>\n",
       "</tr>\n",
       "<tr>\n",
       "  <th>age</th>   <td>    0.2745</td> <td>    0.243</td> <td>    1.128</td> <td> 0.259</td> <td>   -0.202</td> <td>    0.752</td>\n",
       "</tr>\n",
       "</table>"
      ],
      "text/plain": [
       "<class 'statsmodels.iolib.summary.Summary'>\n",
       "\"\"\"\n",
       "                           Logit Regression Results                           \n",
       "==============================================================================\n",
       "Dep. Variable:                   type   No. Observations:                  232\n",
       "Model:                          Logit   Df Residuals:                      225\n",
       "Method:                           MLE   Df Model:                            6\n",
       "Date:                Thu, 05 Dec 2019   Pseudo R-squ.:                  0.1847\n",
       "Time:                        11:02:49   Log-Likelihood:                -118.43\n",
       "converged:                       True   LL-Null:                       -145.25\n",
       "Covariance Type:            nonrobust   LLR p-value:                 8.709e-10\n",
       "==============================================================================\n",
       "                 coef    std err          z      P>|z|      [0.025      0.975]\n",
       "------------------------------------------------------------------------------\n",
       "npreg          0.2014      0.224      0.898      0.369      -0.238       0.641\n",
       "glu            1.1259      0.200      5.633      0.000       0.734       1.518\n",
       "bp            -0.0408      0.196     -0.209      0.835      -0.424       0.343\n",
       "skin           0.0629      0.213      0.296      0.768      -0.354       0.480\n",
       "bmi            0.4463      0.238      1.878      0.060      -0.019       0.912\n",
       "ped            0.2465      0.180      1.372      0.170      -0.106       0.599\n",
       "age            0.2745      0.243      1.128      0.259      -0.202       0.752\n",
       "==============================================================================\n",
       "\"\"\""
      ]
     },
     "execution_count": 18,
     "metadata": {},
     "output_type": "execute_result"
    }
   ],
   "source": [
    "import statsmodels.api as sm\n",
    "#Build Logit Model\n",
    "logit = sm.Logit(y_train,x_train)\n",
    "\n",
    "# fit the model\n",
    "model1 = logit.fit()\n",
    "\n",
    "# Prining Logistic Regression model results \n",
    "model1.summary()"
   ]
  },
  {
   "cell_type": "code",
   "execution_count": 19,
   "metadata": {},
   "outputs": [],
   "source": [
    "# Predict values using test data\n",
    "y_pred = model1.predict(x_test)"
   ]
  },
  {
   "cell_type": "code",
   "execution_count": 20,
   "metadata": {},
   "outputs": [
    {
     "data": {
      "text/html": [
       "<div>\n",
       "<style scoped>\n",
       "    .dataframe tbody tr th:only-of-type {\n",
       "        vertical-align: middle;\n",
       "    }\n",
       "\n",
       "    .dataframe tbody tr th {\n",
       "        vertical-align: top;\n",
       "    }\n",
       "\n",
       "    .dataframe thead th {\n",
       "        text-align: right;\n",
       "    }\n",
       "</style>\n",
       "<table border=\"1\" class=\"dataframe\">\n",
       "  <thead>\n",
       "    <tr style=\"text-align: right;\">\n",
       "      <th></th>\n",
       "      <th>0</th>\n",
       "    </tr>\n",
       "  </thead>\n",
       "  <tbody>\n",
       "    <tr>\n",
       "      <th>52</th>\n",
       "      <td>0.880575</td>\n",
       "    </tr>\n",
       "    <tr>\n",
       "      <th>56</th>\n",
       "      <td>0.497871</td>\n",
       "    </tr>\n",
       "    <tr>\n",
       "      <th>55</th>\n",
       "      <td>0.334530</td>\n",
       "    </tr>\n",
       "    <tr>\n",
       "      <th>191</th>\n",
       "      <td>0.296550</td>\n",
       "    </tr>\n",
       "    <tr>\n",
       "      <th>145</th>\n",
       "      <td>0.353744</td>\n",
       "    </tr>\n",
       "  </tbody>\n",
       "</table>\n",
       "</div>"
      ],
      "text/plain": [
       "            0\n",
       "52   0.880575\n",
       "56   0.497871\n",
       "55   0.334530\n",
       "191  0.296550\n",
       "145  0.353744"
      ]
     },
     "execution_count": 20,
     "metadata": {},
     "output_type": "execute_result"
    }
   ],
   "source": [
    "# Making y_pred as DataFrame\n",
    "predicted_df = pd.DataFrame(y_pred)\n",
    "predicted_df.head(5)"
   ]
  },
  {
   "cell_type": "code",
   "execution_count": 21,
   "metadata": {},
   "outputs": [
    {
     "data": {
      "text/html": [
       "<div>\n",
       "<style scoped>\n",
       "    .dataframe tbody tr th:only-of-type {\n",
       "        vertical-align: middle;\n",
       "    }\n",
       "\n",
       "    .dataframe tbody tr th {\n",
       "        vertical-align: top;\n",
       "    }\n",
       "\n",
       "    .dataframe thead th {\n",
       "        text-align: right;\n",
       "    }\n",
       "</style>\n",
       "<table border=\"1\" class=\"dataframe\">\n",
       "  <thead>\n",
       "    <tr style=\"text-align: right;\">\n",
       "      <th></th>\n",
       "      <th>0</th>\n",
       "      <th>Predicted_Class</th>\n",
       "    </tr>\n",
       "  </thead>\n",
       "  <tbody>\n",
       "    <tr>\n",
       "      <th>52</th>\n",
       "      <td>0.880575</td>\n",
       "      <td>1</td>\n",
       "    </tr>\n",
       "    <tr>\n",
       "      <th>56</th>\n",
       "      <td>0.497871</td>\n",
       "      <td>0</td>\n",
       "    </tr>\n",
       "    <tr>\n",
       "      <th>55</th>\n",
       "      <td>0.334530</td>\n",
       "      <td>0</td>\n",
       "    </tr>\n",
       "    <tr>\n",
       "      <th>191</th>\n",
       "      <td>0.296550</td>\n",
       "      <td>0</td>\n",
       "    </tr>\n",
       "    <tr>\n",
       "      <th>145</th>\n",
       "      <td>0.353744</td>\n",
       "      <td>0</td>\n",
       "    </tr>\n",
       "  </tbody>\n",
       "</table>\n",
       "</div>"
      ],
      "text/plain": [
       "            0  Predicted_Class\n",
       "52   0.880575                1\n",
       "56   0.497871                0\n",
       "55   0.334530                0\n",
       "191  0.296550                0\n",
       "145  0.353744                0"
      ]
     },
     "execution_count": 21,
     "metadata": {},
     "output_type": "execute_result"
    }
   ],
   "source": [
    "# assigning the class 0 and 1 based on threshold value 0.5\n",
    "predicted_df['Predicted_Class'] = np.where(predicted_df[0]>= 0.5,1,0)\n",
    "predicted_df.head(5)"
   ]
  },
  {
   "cell_type": "markdown",
   "metadata": {},
   "source": [
    "### Model Accuracy"
   ]
  },
  {
   "cell_type": "code",
   "execution_count": 22,
   "metadata": {},
   "outputs": [
    {
     "name": "stdout",
     "output_type": "stream",
     "text": [
      "0.78\n"
     ]
    }
   ],
   "source": [
    "# Checking the accuracy with test data\n",
    "from sklearn.metrics import accuracy_score\n",
    "print(accuracy_score(y_test,predicted_df['Predicted_Class']))"
   ]
  },
  {
   "cell_type": "code",
   "execution_count": 23,
   "metadata": {},
   "outputs": [
    {
     "data": {
      "text/plain": [
       "array([[48, 17],\n",
       "       [ 5, 30]], dtype=int64)"
      ]
     },
     "execution_count": 23,
     "metadata": {},
     "output_type": "execute_result"
    }
   ],
   "source": [
    "# Confusion Matrix \n",
    "from sklearn.metrics import confusion_matrix\n",
    "confusion_matrix = confusion_matrix(y_test, predicted_df['Predicted_Class'])\n",
    "confusion_matrix"
   ]
  },
  {
   "cell_type": "markdown",
   "metadata": {},
   "source": [
    "### Classification Report"
   ]
  },
  {
   "cell_type": "code",
   "execution_count": 24,
   "metadata": {},
   "outputs": [
    {
     "name": "stdout",
     "output_type": "stream",
     "text": [
      "              precision    recall  f1-score   support\n",
      "\n",
      "           0       0.91      0.74      0.81        65\n",
      "           1       0.64      0.86      0.73        35\n",
      "\n",
      "    accuracy                           0.78       100\n",
      "   macro avg       0.77      0.80      0.77       100\n",
      "weighted avg       0.81      0.78      0.78       100\n",
      "\n"
     ]
    }
   ],
   "source": [
    "from sklearn.metrics import classification_report\n",
    "\n",
    "print(classification_report(y_test, predicted_df['Predicted_Class']))"
   ]
  },
  {
   "cell_type": "markdown",
   "metadata": {},
   "source": [
    "### ROC and AUC"
   ]
  },
  {
   "cell_type": "code",
   "execution_count": 25,
   "metadata": {},
   "outputs": [
    {
     "data": {
      "image/png": "[encoded data removed]",
      "text/plain": [
       "<Figure size 432x288 with 1 Axes>"
      ]
     },
     "metadata": {
      "needs_background": "light"
     },
     "output_type": "display_data"
    }
   ],
   "source": [
    "y_pred_prob = model1.predict(x_test)\n",
    "\n",
    "from sklearn.metrics import roc_curve\n",
    "# Generate ROC curve values: fpr, tpr, thresholds\n",
    "fpr, tpr, thresholds = roc_curve(y_test, y_pred_prob)\n",
    "\n",
    "# Plot ROC curve\n",
    "plt.plot(fpr, tpr)\n",
    "plt.xlabel('False Positive Rate')\n",
    "plt.ylabel('True Positive Rate')\n",
    "plt.title('ROC Curve')\n",
    "plt.show()"
   ]
  },
  {
   "cell_type": "code",
   "execution_count": 26,
   "metadata": {},
   "outputs": [
    {
     "data": {
      "text/plain": [
       "0.7978021978021979"
      ]
     },
     "execution_count": 26,
     "metadata": {},
     "output_type": "execute_result"
    }
   ],
   "source": [
    "# AUC\n",
    "from sklearn.metrics import roc_auc_score\n",
    "roc_auc_score(y_test,predicted_df['Predicted_Class'])"
   ]
  },
  {
   "cell_type": "code",
   "execution_count": 27,
   "metadata": {},
   "outputs": [
    {
     "name": "stdout",
     "output_type": "stream",
     "text": [
      "type\n",
      "0    223\n",
      "1    109\n",
      "dtype: int64\n"
     ]
    }
   ],
   "source": [
    "print(df.groupby('type').size())"
   ]
  },
  {
   "cell_type": "markdown",
   "metadata": {},
   "source": [
    "### Oversampling"
   ]
  },
  {
   "cell_type": "code",
   "execution_count": 31,
   "metadata": {},
   "outputs": [],
   "source": [
    "from imblearn.over_sampling import SMOTE"
   ]
  },
  {
   "cell_type": "code",
   "execution_count": 33,
   "metadata": {},
   "outputs": [],
   "source": [
    "ovsm = SMOTE(random_state=2)"
   ]
  },
  {
   "cell_type": "code",
   "execution_count": 35,
   "metadata": {},
   "outputs": [],
   "source": [
    "x1_train,y1_train = ovsm.fit_sample(x_train,y_train)"
   ]
  },
  {
   "cell_type": "code",
   "execution_count": 36,
   "metadata": {},
   "outputs": [
    {
     "name": "stdout",
     "output_type": "stream",
     "text": [
      "Optimization terminated successfully.\n",
      "         Current function value: 0.435537\n",
      "         Iterations 6\n"
     ]
    },
    {
     "data": {
      "text/html": [
       "<table class=\"simpletable\">\n",
       "<caption>Logit Regression Results</caption>\n",
       "<tr>\n",
       "  <th>Dep. Variable:</th>           <td>y</td>        <th>  No. Observations:  </th>  <td>   316</td>  \n",
       "</tr>\n",
       "<tr>\n",
       "  <th>Model:</th>                 <td>Logit</td>      <th>  Df Residuals:      </th>  <td>   309</td>  \n",
       "</tr>\n",
       "<tr>\n",
       "  <th>Method:</th>                 <td>MLE</td>       <th>  Df Model:          </th>  <td>     6</td>  \n",
       "</tr>\n",
       "<tr>\n",
       "  <th>Date:</th>            <td>Thu, 05 Dec 2019</td> <th>  Pseudo R-squ.:     </th>  <td>0.3717</td>  \n",
       "</tr>\n",
       "<tr>\n",
       "  <th>Time:</th>                <td>11:39:56</td>     <th>  Log-Likelihood:    </th> <td> -137.63</td> \n",
       "</tr>\n",
       "<tr>\n",
       "  <th>converged:</th>             <td>True</td>       <th>  LL-Null:           </th> <td> -219.03</td> \n",
       "</tr>\n",
       "<tr>\n",
       "  <th>Covariance Type:</th>     <td>nonrobust</td>    <th>  LLR p-value:       </th> <td>1.504e-32</td>\n",
       "</tr>\n",
       "</table>\n",
       "<table class=\"simpletable\">\n",
       "<tr>\n",
       "   <td></td>     <th>coef</th>     <th>std err</th>      <th>z</th>      <th>P>|z|</th>  <th>[0.025</th>    <th>0.975]</th>  \n",
       "</tr>\n",
       "<tr>\n",
       "  <th>x1</th> <td>    0.3133</td> <td>    0.216</td> <td>    1.451</td> <td> 0.147</td> <td>   -0.110</td> <td>    0.736</td>\n",
       "</tr>\n",
       "<tr>\n",
       "  <th>x2</th> <td>    1.4162</td> <td>    0.191</td> <td>    7.399</td> <td> 0.000</td> <td>    1.041</td> <td>    1.791</td>\n",
       "</tr>\n",
       "<tr>\n",
       "  <th>x3</th> <td>   -0.1006</td> <td>    0.191</td> <td>   -0.527</td> <td> 0.598</td> <td>   -0.475</td> <td>    0.274</td>\n",
       "</tr>\n",
       "<tr>\n",
       "  <th>x4</th> <td>    0.1635</td> <td>    0.208</td> <td>    0.787</td> <td> 0.431</td> <td>   -0.244</td> <td>    0.571</td>\n",
       "</tr>\n",
       "<tr>\n",
       "  <th>x5</th> <td>    0.4704</td> <td>    0.232</td> <td>    2.031</td> <td> 0.042</td> <td>    0.016</td> <td>    0.924</td>\n",
       "</tr>\n",
       "<tr>\n",
       "  <th>x6</th> <td>    0.2496</td> <td>    0.173</td> <td>    1.440</td> <td> 0.150</td> <td>   -0.090</td> <td>    0.589</td>\n",
       "</tr>\n",
       "<tr>\n",
       "  <th>x7</th> <td>    0.3018</td> <td>    0.242</td> <td>    1.249</td> <td> 0.212</td> <td>   -0.172</td> <td>    0.776</td>\n",
       "</tr>\n",
       "</table>"
      ],
      "text/plain": [
       "<class 'statsmodels.iolib.summary.Summary'>\n",
       "\"\"\"\n",
       "                           Logit Regression Results                           \n",
       "==============================================================================\n",
       "Dep. Variable:                      y   No. Observations:                  316\n",
       "Model:                          Logit   Df Residuals:                      309\n",
       "Method:                           MLE   Df Model:                            6\n",
       "Date:                Thu, 05 Dec 2019   Pseudo R-squ.:                  0.3717\n",
       "Time:                        11:39:56   Log-Likelihood:                -137.63\n",
       "converged:                       True   LL-Null:                       -219.03\n",
       "Covariance Type:            nonrobust   LLR p-value:                 1.504e-32\n",
       "==============================================================================\n",
       "                 coef    std err          z      P>|z|      [0.025      0.975]\n",
       "------------------------------------------------------------------------------\n",
       "x1             0.3133      0.216      1.451      0.147      -0.110       0.736\n",
       "x2             1.4162      0.191      7.399      0.000       1.041       1.791\n",
       "x3            -0.1006      0.191     -0.527      0.598      -0.475       0.274\n",
       "x4             0.1635      0.208      0.787      0.431      -0.244       0.571\n",
       "x5             0.4704      0.232      2.031      0.042       0.016       0.924\n",
       "x6             0.2496      0.173      1.440      0.150      -0.090       0.589\n",
       "x7             0.3018      0.242      1.249      0.212      -0.172       0.776\n",
       "==============================================================================\n",
       "\"\"\""
      ]
     },
     "execution_count": 36,
     "metadata": {},
     "output_type": "execute_result"
    }
   ],
   "source": [
    "logit1 = sm.Logit(y1_train,x1_train)\n",
    "\n",
    "# fit the model\n",
    "model2 = logit1.fit()\n",
    "\n",
    "# Prining Logistic Regression model results \n",
    "model2.summary()"
   ]
  },
  {
   "cell_type": "code",
   "execution_count": 37,
   "metadata": {},
   "outputs": [],
   "source": [
    "# Predict values using test data\n",
    "y_pred1 = model2.predict(x_test)"
   ]
  },
  {
   "cell_type": "code",
   "execution_count": 38,
   "metadata": {},
   "outputs": [
    {
     "data": {
      "text/html": [
       "<div>\n",
       "<style scoped>\n",
       "    .dataframe tbody tr th:only-of-type {\n",
       "        vertical-align: middle;\n",
       "    }\n",
       "\n",
       "    .dataframe tbody tr th {\n",
       "        vertical-align: top;\n",
       "    }\n",
       "\n",
       "    .dataframe thead th {\n",
       "        text-align: right;\n",
       "    }\n",
       "</style>\n",
       "<table border=\"1\" class=\"dataframe\">\n",
       "  <thead>\n",
       "    <tr style=\"text-align: right;\">\n",
       "      <th></th>\n",
       "      <th>0</th>\n",
       "    </tr>\n",
       "  </thead>\n",
       "  <tbody>\n",
       "    <tr>\n",
       "      <th>52</th>\n",
       "      <td>0.933392</td>\n",
       "    </tr>\n",
       "    <tr>\n",
       "      <th>56</th>\n",
       "      <td>0.495742</td>\n",
       "    </tr>\n",
       "    <tr>\n",
       "      <th>55</th>\n",
       "      <td>0.302220</td>\n",
       "    </tr>\n",
       "    <tr>\n",
       "      <th>191</th>\n",
       "      <td>0.226327</td>\n",
       "    </tr>\n",
       "    <tr>\n",
       "      <th>145</th>\n",
       "      <td>0.359690</td>\n",
       "    </tr>\n",
       "  </tbody>\n",
       "</table>\n",
       "</div>"
      ],
      "text/plain": [
       "            0\n",
       "52   0.933392\n",
       "56   0.495742\n",
       "55   0.302220\n",
       "191  0.226327\n",
       "145  0.359690"
      ]
     },
     "execution_count": 38,
     "metadata": {},
     "output_type": "execute_result"
    }
   ],
   "source": [
    "# Making y_pred as DataFrame\n",
    "predicted_df1 = pd.DataFrame(y_pred1)\n",
    "predicted_df1.head(5)"
   ]
  },
  {
   "cell_type": "code",
   "execution_count": 39,
   "metadata": {},
   "outputs": [
    {
     "data": {
      "text/html": [
       "<div>\n",
       "<style scoped>\n",
       "    .dataframe tbody tr th:only-of-type {\n",
       "        vertical-align: middle;\n",
       "    }\n",
       "\n",
       "    .dataframe tbody tr th {\n",
       "        vertical-align: top;\n",
       "    }\n",
       "\n",
       "    .dataframe thead th {\n",
       "        text-align: right;\n",
       "    }\n",
       "</style>\n",
       "<table border=\"1\" class=\"dataframe\">\n",
       "  <thead>\n",
       "    <tr style=\"text-align: right;\">\n",
       "      <th></th>\n",
       "      <th>0</th>\n",
       "      <th>Predicted_Class</th>\n",
       "    </tr>\n",
       "  </thead>\n",
       "  <tbody>\n",
       "    <tr>\n",
       "      <th>52</th>\n",
       "      <td>0.933392</td>\n",
       "      <td>1</td>\n",
       "    </tr>\n",
       "    <tr>\n",
       "      <th>56</th>\n",
       "      <td>0.495742</td>\n",
       "      <td>0</td>\n",
       "    </tr>\n",
       "    <tr>\n",
       "      <th>55</th>\n",
       "      <td>0.302220</td>\n",
       "      <td>0</td>\n",
       "    </tr>\n",
       "    <tr>\n",
       "      <th>191</th>\n",
       "      <td>0.226327</td>\n",
       "      <td>0</td>\n",
       "    </tr>\n",
       "    <tr>\n",
       "      <th>145</th>\n",
       "      <td>0.359690</td>\n",
       "      <td>0</td>\n",
       "    </tr>\n",
       "  </tbody>\n",
       "</table>\n",
       "</div>"
      ],
      "text/plain": [
       "            0  Predicted_Class\n",
       "52   0.933392                1\n",
       "56   0.495742                0\n",
       "55   0.302220                0\n",
       "191  0.226327                0\n",
       "145  0.359690                0"
      ]
     },
     "execution_count": 39,
     "metadata": {},
     "output_type": "execute_result"
    }
   ],
   "source": [
    "# assigning the class 0 and 1 based on threshold value 0.5\n",
    "predicted_df1['Predicted_Class'] = np.where(predicted_df1[0]>= 0.5,1,0)\n",
    "predicted_df1.head(5)"
   ]
  },
  {
   "cell_type": "code",
   "execution_count": 40,
   "metadata": {},
   "outputs": [
    {
     "name": "stdout",
     "output_type": "stream",
     "text": [
      "0.77\n"
     ]
    }
   ],
   "source": [
    "print(accuracy_score(y_test,predicted_df1['Predicted_Class']))"
   ]
  },
  {
   "cell_type": "code",
   "execution_count": 41,
   "metadata": {},
   "outputs": [
    {
     "name": "stdout",
     "output_type": "stream",
     "text": [
      "              precision    recall  f1-score   support\n",
      "\n",
      "           0       0.90      0.72      0.80        65\n",
      "           1       0.62      0.86      0.72        35\n",
      "\n",
      "    accuracy                           0.77       100\n",
      "   macro avg       0.76      0.79      0.76       100\n",
      "weighted avg       0.81      0.77      0.78       100\n",
      "\n"
     ]
    }
   ],
   "source": [
    "print(classification_report(y_test, predicted_df1['Predicted_Class']))"
   ]
  },
  {
   "cell_type": "code",
   "execution_count": null,
   "metadata": {},
   "outputs": [],
   "source": []
  }
 ],
 "metadata": {
  "kernelspec": {
   "display_name": "Python 3",
   "language": "python",
   "name": "python3"
  },
  "language_info": {
   "codemirror_mode": {
    "name": "ipython",
    "version": 3
   },
   "file_extension": ".py",
   "mimetype": "text/x-python",
   "name": "python",
   "nbconvert_exporter": "python",
   "pygments_lexer": "ipython3",
   "version": "3.7.3"
  }
 },
 "nbformat": 4,
 "nbformat_minor": 2
}
